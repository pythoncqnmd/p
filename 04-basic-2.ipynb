{
 "cells": [
  {
   "cell_type": "code",
   "execution_count": 1,
   "metadata": {},
   "outputs": [],
   "source": [
    "student_list = [  \n",
    "    {\"姓名\": \"张三\", \"学号\": \"202101\", \"github仓库地址\": \"https://github.com/zhangsan/repo\"},  \n",
    "    {\"姓名\": \"李四\", \"学号\": \"202102\", \"github仓库地址\": \"https://github.com/lisi/test-repo\"},  \n",
    "    {\"姓名\": \"王五\", \"学号\": \"202103\", \"github仓库地址\": \"https://github.com/wangwu/project\"},  \n",
    "    {\"姓名\": \"赵六\", \"学号\": \"202104\", \"github仓库地址\": \"https://github.com/zhaoliu/open-source\"},  \n",
    "    {\"姓名\": \"孙七\", \"学号\": \"202105\", \"github仓库地址\": \"https://github.com/sunqi/web-app\"},  \n",
    "    {\"姓名\": \"周八\", \"学号\": \"202106\", \"github仓库地址\": \"https://github.com/zhouba/new-project\"},  \n",
    "    {\"姓名\": \"吴九\", \"学号\": \"202107\", \"github仓库地址\": \"https://github.com/wujiu/learning-repo\"},  \n",
    "    {\"姓名\": \"郑十\", \"学号\": \"202108\", \"github仓库地址\": \"https://github.com/zhengshi/work\"},  \n",
    "    {\"姓名\": \"冯十一\", \"学号\": \"202109\", \"github仓库地址\": \"https://github.com/fenshiyi/open-source-project\"},  \n",
    "    {\"姓名\": \"杨十二\", \"学号\": \"202110\", \"github仓库地址\": \"https://github.com/yangshier/study\"}  \n",
    "]"
   ]
  },
  {
   "cell_type": "code",
   "execution_count": 4,
   "metadata": {},
   "outputs": [
    {
     "ename": "NameError",
     "evalue": "name 'student_list' is not defined",
     "output_type": "error",
     "traceback": [
      "\u001b[1;31m---------------------------------------------------------------------------\u001b[0m",
      "\u001b[1;31mNameError\u001b[0m                                 Traceback (most recent call last)",
      "\u001b[1;32mc:\\Users\\86151\\Desktop\\p\\04-basic-2.ipynb 单元格 2\u001b[0m line \u001b[0;36m4\n\u001b[0;32m      <a href='vscode-notebook-cell:/c%3A/Users/86151/Desktop/p/04-basic-2.ipynb#W1sZmlsZQ%3D%3D?line=0'>1</a>\u001b[0m target_name \u001b[39m=\u001b[39m \u001b[39m'\u001b[39m\u001b[39m张三\u001b[39m\u001b[39m'\u001b[39m \u001b[39m# 指定要筛选的姓名\u001b[39;00m\n\u001b[0;32m      <a href='vscode-notebook-cell:/c%3A/Users/86151/Desktop/p/04-basic-2.ipynb#W1sZmlsZQ%3D%3D?line=1'>2</a>\u001b[0m target_github_urls \u001b[39m=\u001b[39m [] \u001b[39m# 用于存储找到的Github仓库地址\u001b[39;00m\n\u001b[1;32m----> <a href='vscode-notebook-cell:/c%3A/Users/86151/Desktop/p/04-basic-2.ipynb#W1sZmlsZQ%3D%3D?line=3'>4</a>\u001b[0m \u001b[39mfor\u001b[39;00m student \u001b[39min\u001b[39;00m student_list:\n\u001b[0;32m      <a href='vscode-notebook-cell:/c%3A/Users/86151/Desktop/p/04-basic-2.ipynb#W1sZmlsZQ%3D%3D?line=4'>5</a>\u001b[0m     \u001b[39mif\u001b[39;00m student[\u001b[39m'\u001b[39m\u001b[39m姓名\u001b[39m\u001b[39m'\u001b[39m] \u001b[39m==\u001b[39m target_name:\n\u001b[0;32m      <a href='vscode-notebook-cell:/c%3A/Users/86151/Desktop/p/04-basic-2.ipynb#W1sZmlsZQ%3D%3D?line=5'>6</a>\u001b[0m         target_github_urls\u001b[39m.\u001b[39mappend(student[\u001b[39m'\u001b[39m\u001b[39mgithub仓库地址\u001b[39m\u001b[39m'\u001b[39m])\n",
      "\u001b[1;31mNameError\u001b[0m: name 'student_list' is not defined"
     ]
    }
   ],
   "source": [
    "target_name = '张三' # 指定要筛选的姓名\n",
    "target_github_urls = [] # 用于存储找到的Github仓库地址\n",
    "\n",
    "for student in student_list:\n",
    "    if student['姓名'] == target_name:\n",
    "        target_github_urls.append(student['github仓库地址'])\n",
    "\n",
    "print(target_github_urls)   "
   ]
  },
  {
   "cell_type": "code",
   "execution_count": 1,
   "metadata": {},
   "outputs": [
    {
     "ename": "NameError",
     "evalue": "name 'student_list' is not defined",
     "output_type": "error",
     "traceback": [
      "\u001b[1;31m---------------------------------------------------------------------------\u001b[0m",
      "\u001b[1;31mNameError\u001b[0m                                 Traceback (most recent call last)",
      "\u001b[1;32mc:\\Users\\86151\\Desktop\\p\\04-basic-2.ipynb 单元格 3\u001b[0m line \u001b[0;36m1\n\u001b[1;32m----> <a href='vscode-notebook-cell:/c%3A/Users/86151/Desktop/p/04-basic-2.ipynb#W2sZmlsZQ%3D%3D?line=0'>1</a>\u001b[0m \u001b[39mdef\u001b[39;00m \u001b[39mget_repo_by_name\u001b[39m(name,data\u001b[39m=\u001b[39mstudent_list):\n\u001b[0;32m      <a href='vscode-notebook-cell:/c%3A/Users/86151/Desktop/p/04-basic-2.ipynb#W2sZmlsZQ%3D%3D?line=1'>2</a>\u001b[0m     \u001b[39mfor\u001b[39;00m i \u001b[39min\u001b[39;00m data:\n\u001b[0;32m      <a href='vscode-notebook-cell:/c%3A/Users/86151/Desktop/p/04-basic-2.ipynb#W2sZmlsZQ%3D%3D?line=2'>3</a>\u001b[0m         \u001b[39mif\u001b[39;00m i[\u001b[39m'\u001b[39m\u001b[39m姓名\u001b[39m\u001b[39m'\u001b[39m]\u001b[39m==\u001b[39mname:\n",
      "\u001b[1;31mNameError\u001b[0m: name 'student_list' is not defined"
     ]
    }
   ],
   "source": [
    "def get_repo_by_name(name,data=student_list):\n",
    "    for i in data:\n",
    "        if i['姓名']==name:\n",
    "           print(i['github仓库地址']) \n",
    "\n",
    "\n",
    "\n",
    "\n"
   ]
  },
  {
   "cell_type": "code",
   "execution_count": null,
   "metadata": {},
   "outputs": [],
   "source": []
  }
 ],
 "metadata": {
  "kernelspec": {
   "display_name": "Python 3",
   "language": "python",
   "name": "python3"
  },
  "language_info": {
   "codemirror_mode": {
    "name": "ipython",
    "version": 3
   },
   "file_extension": ".py",
   "mimetype": "text/x-python",
   "name": "python",
   "nbconvert_exporter": "python",
   "pygments_lexer": "ipython3",
   "version": "3.8.10"
  },
  "orig_nbformat": 4
 },
 "nbformat": 4,
 "nbformat_minor": 2
}
