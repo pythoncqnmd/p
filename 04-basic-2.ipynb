{
 "cells": [
  {
   "cell_type": "code",
   "execution_count": 2,
   "metadata": {},
   "outputs": [],
   "source": [
    "student_list = [  \n",
    "    {\"姓名\": \"张三\", \"学号\": \"202101\", \"github仓库地址\": \"https://github.com/zhangsan/repo\"},  \n",
    "    {\"姓名\": \"李四\", \"学号\": \"202102\", \"github仓库地址\": \"https://github.com/lisi/test-repo\"},  \n",
    "    {\"姓名\": \"王五\", \"学号\": \"202103\", \"github仓库地址\": \"https://github.com/wangwu/project\"},  \n",
    "    {\"姓名\": \"赵六\", \"学号\": \"202104\", \"github仓库地址\": \"https://github.com/zhaoliu/open-source\"},  \n",
    "    {\"姓名\": \"孙七\", \"学号\": \"202105\", \"github仓库地址\": \"https://github.com/sunqi/web-app\"},  \n",
    "    {\"姓名\": \"周八\", \"学号\": \"202106\", \"github仓库地址\": \"https://github.com/zhouba/new-project\"},  \n",
    "    {\"姓名\": \"吴九\", \"学号\": \"202107\", \"github仓库地址\": \"https://github.com/wujiu/learning-repo\"},  \n",
    "    {\"姓名\": \"郑十\", \"学号\": \"202108\", \"github仓库地址\": \"https://github.com/zhengshi/work\"},  \n",
    "    {\"姓名\": \"冯十一\", \"学号\": \"202109\", \"github仓库地址\": \"https://github.com/fenshiyi/open-source-project\"},  \n",
    "    {\"姓名\": \"杨十二\", \"学号\": \"202110\", \"github仓库地址\": \"https://github.com/yangshier/study\"}  \n",
    "]"
   ]
  },
  {
   "cell_type": "code",
   "execution_count": 4,
   "metadata": {},
   "outputs": [
    {
     "name": "stdout",
     "output_type": "stream",
     "text": [
      "['https://github.com/zhangsan/repo']\n"
     ]
    }
   ],
   "source": [
    "target_name = '张三' # 指定要筛选的姓名\n",
    "target_github_urls = [] # 用于存储找到的Github仓库地址\n",
    "\n",
    "for student in student_list:\n",
    "    if student['姓名'] == target_name:\n",
    "        target_github_urls.append(student['github仓库地址'])\n",
    "\n",
    "print(target_github_urls)   "
   ]
  },
  {
   "cell_type": "code",
   "execution_count": 6,
   "metadata": {},
   "outputs": [],
   "source": [
    "def get_repo_by_name(name,data=student_list):\n",
    "    for i in data:\n",
    "        if i['姓名']==name:\n",
    "           print(i['github仓库地址']) \n",
    "\n",
    "\n",
    "\n",
    "\n"
   ]
  },
  {
   "cell_type": "code",
   "execution_count": 7,
   "metadata": {},
   "outputs": [
    {
     "name": "stdout",
     "output_type": "stream",
     "text": [
      "https://github.com/zhangsan/repo\n"
     ]
    }
   ],
   "source": [
    "get_repo_by_name('张三',student_list)"
   ]
  },
  {
   "cell_type": "code",
   "execution_count": 8,
   "metadata": {},
   "outputs": [
    {
     "name": "stdout",
     "output_type": "stream",
     "text": [
      "https://github.com/zhangsan/repo\n"
     ]
    }
   ],
   "source": [
    "get_repo_by_name(name='张三',data=student_list)"
   ]
  },
  {
   "cell_type": "code",
   "execution_count": 24,
   "metadata": {},
   "outputs": [],
   "source": [
    "def get_repo_by_name2(name,data):\n",
    "    for i in data:\n",
    "        if i['姓名']==name:\n",
    "           return i['github仓库地址']"
   ]
  },
  {
   "cell_type": "code",
   "execution_count": 25,
   "metadata": {},
   "outputs": [
    {
     "name": "stdout",
     "output_type": "stream",
     "text": [
      "https://github.com/zhangsan/repo\n"
     ]
    }
   ],
   "source": [
    "print(get_repo_by_name2('张三',student_list))"
   ]
  }
 ],
 "metadata": {
  "kernelspec": {
   "display_name": "Python 3",
   "language": "python",
   "name": "python3"
  },
  "language_info": {
   "codemirror_mode": {
    "name": "ipython",
    "version": 3
   },
   "file_extension": ".py",
   "mimetype": "text/x-python",
   "name": "python",
   "nbconvert_exporter": "python",
   "pygments_lexer": "ipython3",
   "version": "3.8.10"
  },
  "orig_nbformat": 4
 },
 "nbformat": 4,
 "nbformat_minor": 2
}
