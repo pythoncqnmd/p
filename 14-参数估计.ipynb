{
 "cells": [
  {
   "cell_type": "code",
   "execution_count": 1,
   "metadata": {},
   "outputs": [
    {
     "ename": "ModuleNotFoundError",
     "evalue": "No module named 'scipy'",
     "output_type": "error",
     "traceback": [
      "\u001b[1;31m---------------------------------------------------------------------------\u001b[0m",
      "\u001b[1;31mModuleNotFoundError\u001b[0m                       Traceback (most recent call last)",
      "\u001b[1;32mc:\\Users\\86151\\Desktop\\p\\14-参数估计.ipynb 单元格 1\u001b[0m line \u001b[0;36m2\n\u001b[0;32m      <a href='vscode-notebook-cell:/c%3A/Users/86151/Desktop/p/14-%E5%8F%82%E6%95%B0%E4%BC%B0%E8%AE%A1.ipynb#W0sZmlsZQ%3D%3D?line=0'>1</a>\u001b[0m \u001b[39mimport\u001b[39;00m \u001b[39mpandas\u001b[39;00m \u001b[39mas\u001b[39;00m \u001b[39mpd\u001b[39;00m\n\u001b[1;32m----> <a href='vscode-notebook-cell:/c%3A/Users/86151/Desktop/p/14-%E5%8F%82%E6%95%B0%E4%BC%B0%E8%AE%A1.ipynb#W0sZmlsZQ%3D%3D?line=1'>2</a>\u001b[0m \u001b[39mfrom\u001b[39;00m \u001b[39mscipy\u001b[39;00m \u001b[39mimport\u001b[39;00m stats\n\u001b[0;32m      <a href='vscode-notebook-cell:/c%3A/Users/86151/Desktop/p/14-%E5%8F%82%E6%95%B0%E4%BC%B0%E8%AE%A1.ipynb#W0sZmlsZQ%3D%3D?line=2'>3</a>\u001b[0m \u001b[39m# 打开数据文件 \u001b[39;00m\n\u001b[0;32m      <a href='vscode-notebook-cell:/c%3A/Users/86151/Desktop/p/14-%E5%8F%82%E6%95%B0%E4%BC%B0%E8%AE%A1.ipynb#W0sZmlsZQ%3D%3D?line=3'>4</a>\u001b[0m file_path \u001b[39m=\u001b[39m \u001b[39m\"\u001b[39m\u001b[39mdata\u001b[39m\u001b[39m\\\\\u001b[39;00m\u001b[39mmovie_data_cleaned.csv\u001b[39m\u001b[39m\"\u001b[39m\u001b[39m# 使用双反斜杠代替反斜杠 \u001b[39;00m\n",
      "\u001b[1;31mModuleNotFoundError\u001b[0m: No module named 'scipy'"
     ]
    }
   ],
   "source": [
    "import pandas as pd\n",
    "from scipy import stats\n",
    "# 打开数据文件 \n",
    "file_path = \"data\\\\movie_data_cleaned.csv\"# 使用双反斜杠代替反斜杠 \n",
    "df_movies = pd.read_csv(file_path)\n",
    "# 计算均值和标准误差\n",
    "mean = df_movies['average'].mean()\n",
    "std_error = stats.sem(df_movies['average'])\n",
    "# 设定置信水平\n",
    "confidence_level = 0.95\n",
    "# 设定自由度\n",
    "df = len(df_movies['average']) - 1\n",
    "# 计算置信区间\n",
    "confidence_interval = stats.t.interval(confidence_level, df, loc=mean, scale=std_error)\n",
    "# 输出结果\n",
    "print(f\"均值：{mean:.2f}\")\n",
    "print(f\"均值在置信水平{confidence_level}下的置信区间为：\", confidence_interval)"
   ]
  },
  {
   "cell_type": "code",
   "execution_count": null,
   "metadata": {},
   "outputs": [
    {
     "ename": "SyntaxError",
     "evalue": "invalid character in identifier (1064952573.py, line 2)",
     "output_type": "error",
     "traceback": [
      "\u001b[1;36m  Cell \u001b[1;32mIn[18], line 2\u001b[1;36m\u001b[0m\n\u001b[1;33m    from scipy import stats\u001b[0m\n\u001b[1;37m                            ^\u001b[0m\n\u001b[1;31mSyntaxError\u001b[0m\u001b[1;31m:\u001b[0m invalid character in identifier\n"
     ]
    }
   ],
   "source": [
    "import pandas as pd \n",
    "from scipy import stats  \n",
    "  \n",
    "# 打开数据文件  \n",
    "file_path = \"data\\\\movie_data_cleaned.csv\"  # 使用双反斜杠代替反斜杠  \n",
    "df_movies = pd.read_csv(file_path)  \n",
    "  \n",
    "# 从数据集中随机抽取100行数据  \n",
    "sample = df_movies.sample(100)  \n",
    "  \n",
    "# 计算抽样数据的平均值  \n",
    "mean = sample['average'].mean()  \n",
    "  \n",
    "# 计算标准误  \n",
    "std_error = stats.sem(sample['average'])  \n",
    "  \n",
    "# 设置置信水平  \n",
    "confidence_level = 0.95  \n",
    "  \n",
    "# 设置自由度  \n",
    "df = len(sample['average']) - 1  \n",
    "  \n",
    "# 计算置信区间  \n",
    "confidence_interval = stats.t.interval(confidence_level, df, loc=mean, scale=std_error)  \n",
    "  \n",
    "# 输出结果  \n",
    "print(f\"随机抽取的100行数据的平均值为：{mean:.2f}\")  \n",
    "print(f\"置信水平为{confidence_level}时，随机抽取的100行数据的均值置信区间为：{confidence_interval}\")"
   ]
  }
 ],
 "metadata": {
  "kernelspec": {
   "display_name": "Python 3",
   "language": "python",
   "name": "python3"
  },
  "language_info": {
   "codemirror_mode": {
    "name": "ipython",
    "version": 3
   },
   "file_extension": ".py",
   "mimetype": "text/x-python",
   "name": "python",
   "nbconvert_exporter": "python",
   "pygments_lexer": "ipython3",
   "version": "3.8.10"
  }
 },
 "nbformat": 4,
 "nbformat_minor": 2
}
