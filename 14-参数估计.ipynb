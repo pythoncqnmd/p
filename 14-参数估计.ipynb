{
 "cells": [
  {
   "cell_type": "code",
   "execution_count": 1,
   "metadata": {},
   "outputs": [
    {
     "name": "stdout",
     "output_type": "stream",
     "text": [
      "均值：7.20\n",
      "均值在置信水平0.95下的置信区间为： (7.171337577138237, 7.2214184794700635)\n"
     ]
    }
   ],
   "source": [
    "import pandas as pd\n",
    "from scipy import stats\n",
    "# 打开数据文件 \n",
    "file_path = \"data\\\\movie_data_cleaned.csv\"# 使用双反斜杠代替反斜杠 \n",
    "df_movies = pd.read_csv(file_path)\n",
    "# 计算均值和标准误差\n",
    "mean = df_movies['average'].mean()\n",
    "std_error = stats.sem(df_movies['average'])\n",
    "# 设定置信水平\n",
    "confidence_level = 0.95\n",
    "# 设定自由度\n",
    "df = len(df_movies['average']) - 1\n",
    "# 计算置信区间\n",
    "confidence_interval = stats.t.interval(confidence_level, df, loc=mean, scale=std_error)\n",
    "# 输出结果\n",
    "print(f\"均值：{mean:.2f}\")\n",
    "print(f\"均值在置信水平{confidence_level}下的置信区间为：\", confidence_interval)"
   ]
  },
  {
   "cell_type": "code",
   "execution_count": 2,
   "metadata": {},
   "outputs": [
    {
     "name": "stdout",
     "output_type": "stream",
     "text": [
      "随机抽取的100行数据的平均值为:7.02\n",
      "置信水平为0.95时,随机抽取的100行数据的均值置信区间为:(6.751761340111722, 7.282238659888279)\n"
     ]
    }
   ],
   "source": [
    "import pandas as pd\n",
    "from scipy import stats\n",
    "\n",
    "# 打开数据文件\n",
    "file_path = \"data\\\\movie_data_cleaned.csv\"# 使用双反斜杠代替反斜杠  \n",
    "df_movies = pd.read_csv(file_path)\n",
    "\n",
    "# 从数据集中随机抽取100行数据\n",
    "sample = df_movies.sample(100)\n",
    "\n",
    "# 计算抽样数据的平均值\n",
    "mean = sample['average'].mean()\n",
    "\n",
    "# 计算标准误  \n",
    "std_error = stats.sem(sample['average'])\n",
    "\n",
    "# 设置置信水平  \n",
    "confidence_level = 0.95\n",
    "\n",
    "# 设置自由度\n",
    "df = len(sample['average']) - 1\n",
    "\n",
    "# 计算置信区间  \n",
    "confidence_interval = stats.t.interval(confidence_level, df, loc=mean, scale=std_error)\n",
    "\n",
    "# 输出结果\n",
    "print(f\"随机抽取的100行数据的平均值为:{mean:.2f}\")\n",
    "print(f\"置信水平为{confidence_level}时,随机抽取的100行数据的均值置信区间为:{confidence_interval}\")"
   ]
  }
 ],
 "metadata": {
  "kernelspec": {
   "display_name": "Python 3",
   "language": "python",
   "name": "python3"
  },
  "language_info": {
   "codemirror_mode": {
    "name": "ipython",
    "version": 3
   },
   "file_extension": ".py",
   "mimetype": "text/x-python",
   "name": "python",
   "nbconvert_exporter": "python",
   "pygments_lexer": "ipython3",
   "version": "3.8.10"
  }
 },
 "nbformat": 4,
 "nbformat_minor": 2
}
