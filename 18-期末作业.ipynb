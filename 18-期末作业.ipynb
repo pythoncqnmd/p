{
 "cells": [
  {
   "cell_type": "code",
   "execution_count": 11,
   "metadata": {},
   "outputs": [],
   "source": [
    "import mytools\n",
    "import pandas as pd"
   ]
  },
  {
   "cell_type": "code",
   "execution_count": 11,
   "metadata": {},
   "outputs": [
    {
     "name": "stdout",
     "output_type": "stream",
     "text": [
      "ERROR! Session/line number was not unique in database. History logging moved to new session 288\n"
     ]
    }
   ],
   "source": [
    "from mytools import 读取SPSS数据文件\n"
   ]
  },
  {
   "cell_type": "code",
   "execution_count": 12,
   "metadata": {},
   "outputs": [
    {
     "data": {
      "text/plain": [
       "'data\\\\demo.sav'"
      ]
     },
     "execution_count": 12,
     "metadata": {},
     "output_type": "execute_result"
    },
    {
     "name": "stdout",
     "output_type": "stream",
     "text": [
      "ERROR! Session/line number was not unique in database. History logging moved to new session 289\n"
     ]
    }
   ],
   "source": [
    "(R'data\\demo.sav')"
   ]
  },
  {
   "cell_type": "code",
   "execution_count": 13,
   "metadata": {},
   "outputs": [
    {
     "ename": "NameError",
     "evalue": "name 'mytools' is not defined",
     "output_type": "error",
     "traceback": [
      "\u001b[1;31m---------------------------------------------------------------------------\u001b[0m",
      "\u001b[1;31mNameError\u001b[0m                                 Traceback (most recent call last)",
      "Cell \u001b[1;32mIn[13], line 1\u001b[0m\n\u001b[1;32m----> 1\u001b[0m 数据表\u001b[38;5;241m=\u001b[39m\u001b[43mmytools\u001b[49m\n",
      "\u001b[1;31mNameError\u001b[0m: name 'mytools' is not defined"
     ]
    }
   ],
   "source": [
    "数据表=mytools"
   ]
  },
  {
   "cell_type": "code",
   "execution_count": null,
   "metadata": {},
   "outputs": [
    {
     "name": "stdout",
     "output_type": "stream",
     "text": [
      "ERROR! Session/line number was not unique in database. History logging moved to new session 287\n"
     ]
    },
    {
     "ename": "NameError",
     "evalue": "name '数据表' is not defined",
     "output_type": "error",
     "traceback": [
      "\u001b[1;31m---------------------------------------------------------------------------\u001b[0m",
      "\u001b[1;31mNameError\u001b[0m                                 Traceback (most recent call last)",
      "Cell \u001b[1;32mIn[11], line 1\u001b[0m\n\u001b[1;32m----> 1\u001b[0m \u001b[43m数据表\u001b[49m\u001b[38;5;241m.\u001b[39mcolumns\n",
      "\u001b[1;31mNameError\u001b[0m: name '数据表' is not defined"
     ]
    }
   ],
   "source": [
    "数据表.columns"
   ]
  },
  {
   "cell_type": "code",
   "execution_count": null,
   "metadata": {},
   "outputs": [],
   "source": [
    "数据表.rename(columns={\n",
    "    '@2、您的年龄：': '年龄',\n",
    "    '@3、您的婚姻状况：': '婚姻状况',\n",
    "    '@4、您的受教育程度是：': '受教育程度',\n",
    "    '@9、您的月收入大约是多少？': '月收入',\n",
    "    '@10、1您家里有': '家庭规模',\n",
    "    '@10、2口人，是': '代际',\n",
    "}, inplace=True)"
   ]
  },
  {
   "cell_type": "code",
   "execution_count": null,
   "metadata": {},
   "outputs": [
    {
     "data": {
      "text/plain": [
       "43.67741935483871"
      ]
     },
     "execution_count": 53,
     "metadata": {},
     "output_type": "execute_result"
    }
   ],
   "source": [
    "# 数据表['家庭规模'].mean()\n",
    "数据表['年龄'].mean()"
   ]
  },
  {
   "cell_type": "code",
   "execution_count": null,
   "metadata": {},
   "outputs": [
    {
     "data": {
      "text/plain": [
       "代际\n",
       "3    59\n",
       "2    18\n",
       "4     8\n",
       "1     2\n",
       "5     1\n",
       "Name: count, dtype: int64"
      ]
     },
     "execution_count": 54,
     "metadata": {},
     "output_type": "execute_result"
    }
   ],
   "source": [
    "数据表['代际'].replace({'(空)':None}, inplace=True)\n",
    "数据表['代际'].value_counts()"
   ]
  },
  {
   "cell_type": "code",
   "execution_count": null,
   "metadata": {},
   "outputs": [],
   "source": [
    "数据表['年龄'].fillna(43, inplace=True)\n",
    "数据表['婚姻状况'].fillna('已婚', inplace=True)\n",
    "数据表['月收入'].fillna('三千元以下', inplace=True)\n",
    "数据表['家庭规模'].fillna(6, inplace=True)\n",
    "数据表['代际'].fillna(3, inplace=True)"
   ]
  },
  {
   "cell_type": "code",
   "execution_count": null,
   "metadata": {},
   "outputs": [
    {
     "name": "stdout",
     "output_type": "stream",
     "text": [
      "使用标准差判断的异常值为： Empty DataFrame\n",
      "Columns: [序号, @1、您的性别：, 年龄, 婚姻状况, 受教育程度, @5、您的政治面貌：, @7、您的信仰是：, @8、您的职业是：, 月收入, 家庭规模, 代际, @10、3代人，家里有, @10、4位老人，家里有, @10、5个小孩，外出打工的人有___人。, @11、您平常是否通过电脑上网？, @12、您平常是否通过手机上网？, @13、您平时一周有几天通过电脑上网？, @14、您平时一周有几天通过手机上网？, @15、1您每天通过手机上网的时间大概为, @15、2分钟，您每天通过电脑上网的时间为, @15、3分钟，您每个月的手机话费为, @15、4元，您家的宽带费为___元。, @16、互联网使用行为（问卷17题至26题）—17、您, @16、18、您认为您在上网时使用搜索引擎（百度, @16、19、您经常会通过互联网（辣椒直播、下厨, @16、20、您认为您玩手机网络游戏（斗地主、斗, @16、21、您经常会通过互联网观看小说么？, @16、22、您经常会通过互联网观看视频（快手、, @16、23、您认为您通过即时通讯（微信、QQ）与他, @16、24、您经常会通过社交网络（微博、陌陌、, @16、25、您认为您在互联网（淘宝、拼多多、京, @16、26、您经常使用移动支付（支付宝、微信支, Q17_1_我目前的生活接近我理想的状态, Q17_2_我的生活条件在各方面都很不错。, Q17_3_对我目前的生活，我很满意。, Q17_4_到目前为止，我已经得到了我想要的东西, Q17_5_如果我能再活一次我没有什么要改变, @18、请表述您最近一周的情感状况—6.爱, @18、7.愉悦, @18、8.自豪, @18、9.愤怒, @18、10.忧虑, @18、11.悲哀, @19、第三部分—1.我能够获得足够有用的媒介信, @19、2.我能够不断更新自己的信息获取技能。, @19、3.我具有较强的信息获取意识。, @19、4.我能够熟练使用软件工具进行信息检索。, @19、5.我能够通过寻找佐证资料判断信息的可信, @19、6.能够通过标题、内容等判断信息的可信度, @19、7.我能够判断当前信息是在陈述事实还是表, @19、8.我能够评估媒介信息内容对他人或社会可, @19、9.我能够通过信息发布机构的权威性判断信, @19、10.我通过网络微信微博QQ等分享社会时事新, @19、11.我通过网络微信微博QQ等参与投票、网络, @19、12.我通过网络参与社会公共事件讨论。, @19、13.我通过网络微信微博QQ等参与社会实践。, @19、14.我通过网络微信微博QQ等与他人交流沟通, @19、15.我通过网络微信微博QQ等分享个人动态信, @19、16.我通过网络微信微博QQ等表达个人观点发, @19、17.我通过网络网络微信微博QQ等与他人协作, @19、18.我能够对音视频素材进行转换格式、压缩, @19、19.我能够对图像素材进行格式转换、压缩与, @19、20.我能够对多媒体素材进行合成与发布。, Q20_1_我对目前的工作相当满意。, Q20_2_大多数时候我对工作充满热情。, Q20_3_我不会感到每天的工作似乎永远不会结束。, Q20_4_我在工作中找到了真正的乐趣, Q20_5_我认为我的工作相当愉快。, Q21_1_我感到我是一个有价值的人, Q21_2_我感到我有许多好的品质。, Q21_3_我倾向于觉得自己是一个失败者, Q21_4_我能像大多数人一样把事情做好, Q21_5_我感到自己值得自豪的地方不多。, Q21_6_我对自己持肯定的态度。, Q21_7_总的来说，我对自己是满意的。, Q21_8_我希望我能为自己赢得更多尊重。, Q21_9_我时常感到自已毫无用处, Q21_10_我时常认为自己一无是处。, @25、调研日期（根据调研日期填写3、4、5或其他, @27、调研地点, @28、问卷编号, @30、问卷录入过程中其他需要说明的问题（若没, 年龄段, 每周上网时长, 生活满意度, 生活满意度区间, 工作满意度, 工作满意度区间, 自尊]\n",
      "Index: []\n",
      "\n",
      "[0 rows x 89 columns]\n"
     ]
    }
   ],
   "source": [
    "# 计算均值和标准差\n",
    "mean = 数据表['年龄'].mean()\n",
    "std = 数据表['年龄'].std()\n",
    "condition1 = (数据表['年龄'] < mean - 3 * std) | (数据表['年龄'] > mean + 3 * std)\n",
    "# 识别异常值\n",
    "outliers1 = 数据表[condition1]\n",
    "print('使用标准差判断的异常值为：',outliers1)"
   ]
  },
  {
   "cell_type": "code",
   "execution_count": null,
   "metadata": {},
   "outputs": [
    {
     "name": "stdout",
     "output_type": "stream",
     "text": [
      "使用标准差判断的异常值为： Empty DataFrame\n",
      "Columns: [序号, @1、您的性别：, 年龄, 婚姻状况, 受教育程度, @5、您的政治面貌：, @7、您的信仰是：, @8、您的职业是：, 月收入, 家庭规模, 代际, @10、3代人，家里有, @10、4位老人，家里有, @10、5个小孩，外出打工的人有___人。, @11、您平常是否通过电脑上网？, @12、您平常是否通过手机上网？, @13、您平时一周有几天通过电脑上网？, @14、您平时一周有几天通过手机上网？, @15、1您每天通过手机上网的时间大概为, @15、2分钟，您每天通过电脑上网的时间为, @15、3分钟，您每个月的手机话费为, @15、4元，您家的宽带费为___元。, @16、互联网使用行为（问卷17题至26题）—17、您, @16、18、您认为您在上网时使用搜索引擎（百度, @16、19、您经常会通过互联网（辣椒直播、下厨, @16、20、您认为您玩手机网络游戏（斗地主、斗, @16、21、您经常会通过互联网观看小说么？, @16、22、您经常会通过互联网观看视频（快手、, @16、23、您认为您通过即时通讯（微信、QQ）与他, @16、24、您经常会通过社交网络（微博、陌陌、, @16、25、您认为您在互联网（淘宝、拼多多、京, @16、26、您经常使用移动支付（支付宝、微信支, Q17_1_我目前的生活接近我理想的状态, Q17_2_我的生活条件在各方面都很不错。, Q17_3_对我目前的生活，我很满意。, Q17_4_到目前为止，我已经得到了我想要的东西, Q17_5_如果我能再活一次我没有什么要改变, @18、请表述您最近一周的情感状况—6.爱, @18、7.愉悦, @18、8.自豪, @18、9.愤怒, @18、10.忧虑, @18、11.悲哀, @19、第三部分—1.我能够获得足够有用的媒介信, @19、2.我能够不断更新自己的信息获取技能。, @19、3.我具有较强的信息获取意识。, @19、4.我能够熟练使用软件工具进行信息检索。, @19、5.我能够通过寻找佐证资料判断信息的可信, @19、6.能够通过标题、内容等判断信息的可信度, @19、7.我能够判断当前信息是在陈述事实还是表, @19、8.我能够评估媒介信息内容对他人或社会可, @19、9.我能够通过信息发布机构的权威性判断信, @19、10.我通过网络微信微博QQ等分享社会时事新, @19、11.我通过网络微信微博QQ等参与投票、网络, @19、12.我通过网络参与社会公共事件讨论。, @19、13.我通过网络微信微博QQ等参与社会实践。, @19、14.我通过网络微信微博QQ等与他人交流沟通, @19、15.我通过网络微信微博QQ等分享个人动态信, @19、16.我通过网络微信微博QQ等表达个人观点发, @19、17.我通过网络网络微信微博QQ等与他人协作, @19、18.我能够对音视频素材进行转换格式、压缩, @19、19.我能够对图像素材进行格式转换、压缩与, @19、20.我能够对多媒体素材进行合成与发布。, Q20_1_我对目前的工作相当满意。, Q20_2_大多数时候我对工作充满热情。, Q20_3_我不会感到每天的工作似乎永远不会结束。, Q20_4_我在工作中找到了真正的乐趣, Q20_5_我认为我的工作相当愉快。, Q21_1_我感到我是一个有价值的人, Q21_2_我感到我有许多好的品质。, Q21_3_我倾向于觉得自己是一个失败者, Q21_4_我能像大多数人一样把事情做好, Q21_5_我感到自己值得自豪的地方不多。, Q21_6_我对自己持肯定的态度。, Q21_7_总的来说，我对自己是满意的。, Q21_8_我希望我能为自己赢得更多尊重。, Q21_9_我时常感到自已毫无用处, Q21_10_我时常认为自己一无是处。, @25、调研日期（根据调研日期填写3、4、5或其他, @27、调研地点, @28、问卷编号, @30、问卷录入过程中其他需要说明的问题（若没, 年龄段, 每周上网时长, 生活满意度, 生活满意度区间, 工作满意度, 工作满意度区间, 自尊]\n",
      "Index: []\n",
      "\n",
      "[0 rows x 89 columns]\n"
     ]
    }
   ],
   "source": [
    "mytools.使用标准差判断数值变量异常值(数据表,'年龄')"
   ]
  },
  {
   "cell_type": "code",
   "execution_count": null,
   "metadata": {},
   "outputs": [
    {
     "data": {
      "text/plain": [
       "dtype('O')"
      ]
     },
     "execution_count": 58,
     "metadata": {},
     "output_type": "execute_result"
    }
   ],
   "source": [
    "数据表['代际'].dtypes"
   ]
  },
  {
   "cell_type": "code",
   "execution_count": null,
   "metadata": {},
   "outputs": [
    {
     "data": {
      "text/plain": [
       "序号           float64\n",
       "@1、您的性别：     float64\n",
       "年龄           float64\n",
       "婚姻状况        category\n",
       "受教育程度       category\n",
       "              ...   \n",
       "生活满意度        float64\n",
       "生活满意度区间     category\n",
       "工作满意度        float64\n",
       "工作满意度区间     category\n",
       "自尊           float64\n",
       "Length: 89, dtype: object"
      ]
     },
     "execution_count": 59,
     "metadata": {},
     "output_type": "execute_result"
    }
   ],
   "source": [
    "数据表.astype({\"代际\": \"int\"}).dtypes"
   ]
  },
  {
   "cell_type": "code",
   "execution_count": null,
   "metadata": {},
   "outputs": [
    {
     "data": {
      "text/plain": [
       "0     3.0\n",
       "1     3.0\n",
       "2     3.0\n",
       "3     3.0\n",
       "4     NaN\n",
       "     ... \n",
       "89    NaN\n",
       "90    NaN\n",
       "91    NaN\n",
       "92    NaN\n",
       "93    NaN\n",
       "Name: 代际, Length: 94, dtype: float64"
      ]
     },
     "execution_count": 60,
     "metadata": {},
     "output_type": "execute_result"
    }
   ],
   "source": [
    "数据表['代际'].map({1:1,2:2,3:3,4:4,5:5})"
   ]
  },
  {
   "cell_type": "code",
   "execution_count": null,
   "metadata": {},
   "outputs": [
    {
     "data": {
      "text/plain": [
       "序号           float64\n",
       "@1、您的性别：     float64\n",
       "年龄             int32\n",
       "婚姻状况        category\n",
       "受教育程度       category\n",
       "              ...   \n",
       "生活满意度        float64\n",
       "生活满意度区间     category\n",
       "工作满意度        float64\n",
       "工作满意度区间     category\n",
       "自尊           float64\n",
       "Length: 89, dtype: object"
      ]
     },
     "execution_count": 61,
     "metadata": {},
     "output_type": "execute_result"
    }
   ],
   "source": [
    "# 变量类型设置\n",
    "数据表['年龄'].dtypes\n",
    "数据表.astype({'年龄':\"int\"}).dtypes"
   ]
  },
  {
   "cell_type": "code",
   "execution_count": null,
   "metadata": {},
   "outputs": [],
   "source": [
    "# 生成新的变量\n",
    "数据表['信息判断能力'] = 数据表['@19、5.我能够通过寻找佐证资料判断信息的可信']+数据表['@19、6.能够通过标题、内容等判断信息的可信度']"
   ]
  },
  {
   "cell_type": "code",
   "execution_count": null,
   "metadata": {},
   "outputs": [
    {
     "name": "stdout",
     "output_type": "stream",
     "text": [
      "Unexpected exception formatting exception. Falling back to standard exception\n"
     ]
    }
   ],
   "source": [
    "# 单变量数据分析\n",
    "\n",
    "mytools.使用plotly绘制类别变量柱状图(数据表,'受教育程度')"
   ]
  },
  {
   "cell_type": "code",
   "execution_count": null,
   "metadata": {},
   "outputs": [
    {
     "name": "stdout",
     "output_type": "stream",
     "text": [
      "ERROR! Session/line number was not unique in Unexpected exception formatting exception. Falling back to standard exception\n",
      "database. History logging moved to new session 198\n"
     ]
    }
   ],
   "source": [
    "# 双变量相关性分析\n",
    "mytools.类别变量与数值变量统计分析(数据表, '受教育程度','信息判断能力')"
   ]
  }
 ],
 "metadata": {
  "kernelspec": {
   "display_name": "Python 3",
   "language": "python",
   "name": "python3"
  },
  "language_info": {
   "codemirror_mode": {
    "name": "ipython",
    "version": 3
   },
   "file_extension": ".py",
   "mimetype": "text/x-python",
   "name": "python",
   "nbconvert_exporter": "python",
   "pygments_lexer": "ipython3",
   "version": "3.8.10"
  }
 },
 "nbformat": 4,
 "nbformat_minor": 2
}
